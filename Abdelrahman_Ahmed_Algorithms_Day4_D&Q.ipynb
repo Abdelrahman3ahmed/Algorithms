{
 "cells": [
  {
   "cell_type": "markdown",
   "metadata": {},
   "source": [
    "# Merge Sort Algorithm"
   ]
  },
  {
   "cell_type": "code",
   "execution_count": 25,
   "metadata": {},
   "outputs": [
    {
     "name": "stdout",
     "output_type": "stream",
     "text": [
      "Final Result\n",
      "[9, 5, 2, 1]\n",
      "\n",
      "2\n",
      "[9, 5]\n",
      "\n",
      "1\n",
      "[9]\n",
      "\n",
      "[5]\n",
      "\n",
      "Merge arrays\n",
      "[9]\n",
      "[5]\n",
      "1\n",
      "[2, 1]\n",
      "\n",
      "1\n",
      "[2]\n",
      "\n",
      "[1]\n",
      "\n",
      "Merge arrays\n",
      "[2]\n",
      "[1]\n",
      "1\n",
      "Merge arrays\n",
      "[]\n",
      "[]\n",
      "0\n",
      "[]\n"
     ]
    }
   ],
   "source": [
    "def Merge_sort(Arr):\n",
    "    print(Arr)\n",
    "    print()\n",
    "    if len(Arr) == 1:\n",
    "        return Arr\n",
    "    Arr_length = int(len(Arr)/2)\n",
    "    print(Arr_length)\n",
    "    farr = Merge_sort(Arr[0:Arr_length])\n",
    "    sarr = Merge_sort(Arr[Arr_length:])\n",
    "    return merge(farr , sarr)\n",
    "\n",
    "def merge(Arr1 , Arr2):\n",
    "    print(\"Merge arrays\")\n",
    "    print(Arr1)\n",
    "    print(Arr2)\n",
    "    new_Arr = []\n",
    "    rangemin = min(len(Arr1) , len(Arr2))\n",
    "    print(rangemin)\n",
    "    for i in range(rangemin-1):\n",
    "        if Arr1[i] < Arr2[i]:\n",
    "            new_Arr.append(Arr1[i])\n",
    "        else :\n",
    "            new_Arr.append(Arr2[i])\n",
    "            \n",
    "    if len(Arr1) > len(Arr2):\n",
    "        new_Arr += Arr1[rangemin+1:]\n",
    "        \n",
    "    else:\n",
    "        new_Arr += Arr2[rangemin+1:]\n",
    "    return new_Arr    \n",
    "        \n",
    "test_arr = [9 , 5,2 ,1] \n",
    "print(\"Final Result\")\n",
    "print(Merge_sort(test_arr))"
   ]
  },
  {
   "cell_type": "markdown",
   "metadata": {},
   "source": [
    "# Kartsuba Algorithm"
   ]
  },
  {
   "cell_type": "code",
   "execution_count": 5,
   "metadata": {},
   "outputs": [
    {
     "name": "stdout",
     "output_type": "stream",
     "text": [
      "800\n"
     ]
    }
   ],
   "source": [
    "def kartsuba(Num1 , Num2):\n",
    "    if len(str(Num1)) == 1 or len(str(Num2)) == 1:\n",
    "        return Num1*Num2\n",
    "    \n",
    "    else:\n",
    "        \n",
    "        n = max(len(str(Num1)) , len(str(Num2)))\n",
    "        nd2 = n//2\n",
    "        a = Num1//10**(nd2)\n",
    "        b = Num1%10**(nd2)\n",
    "        \n",
    "        c = Num2//10**(nd2)\n",
    "        d = Num2%10**(nd2)\n",
    "        \n",
    "        \n",
    "        ai = kartsuba(a , c)\n",
    "        di = kartsuba(b , d)\n",
    "        ei = kartsuba(a+b , c+d)-ai-di\n",
    "        \n",
    "        k = ai * 10**(nd2 * 2)+ei * 10**(nd2) + di\n",
    "    return k    \n",
    "        \n",
    "\n",
    "print(kartsuba(20 , 40))"
   ]
  },
  {
   "cell_type": "code",
   "execution_count": null,
   "metadata": {},
   "outputs": [],
   "source": [
    "# Quick Sort"
   ]
  },
  {
   "cell_type": "code",
   "execution_count": null,
   "metadata": {},
   "outputs": [],
   "source": [
    "def Quick_sort(Array , Left_pointer , Right_pointer):\n",
    "    Partioning()\n",
    "    \n",
    "    \n",
    "def Partioning(Array , Left_pointer , Right_pointer): \n",
    "    Pivot = Array[Right_pointer]\n",
    "    First_pointer = Left_pointer\n",
    "    i = First_pointer\n",
    "    while Array[i] != Pivot:\n",
    "        if \n",
    "    \n"
   ]
  }
 ],
 "metadata": {
  "kernelspec": {
   "display_name": "Python 3",
   "language": "python",
   "name": "python3"
  },
  "language_info": {
   "codemirror_mode": {
    "name": "ipython",
    "version": 3
   },
   "file_extension": ".py",
   "mimetype": "text/x-python",
   "name": "python",
   "nbconvert_exporter": "python",
   "pygments_lexer": "ipython3",
   "version": "3.8.5"
  }
 },
 "nbformat": 4,
 "nbformat_minor": 4
}
