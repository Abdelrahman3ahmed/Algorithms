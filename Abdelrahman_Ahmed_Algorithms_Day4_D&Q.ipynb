{
 "cells": [
  {
   "cell_type": "markdown",
   "metadata": {},
   "source": [
    "# Merge Sort Algorithm"
   ]
  },
  {
   "cell_type": "code",
   "execution_count": 70,
   "metadata": {},
   "outputs": [
    {
     "name": "stdout",
     "output_type": "stream",
     "text": [
      "Final Result\n",
      "[0, 1, 2, 4, 5, 6, 7, 8, 9, 11, 13]\n"
     ]
    }
   ],
   "source": [
    "def Merge_sort(Arr):\n",
    "    \n",
    "    if len(Arr) == 1:\n",
    "        return Arr\n",
    "    Arr_length = len(Arr)//2\n",
    "    farr = Merge_sort(Arr[0:Arr_length])\n",
    "    sarr = Merge_sort(Arr[Arr_length:])\n",
    "    return merge(farr , sarr)\n",
    "\n",
    "def merge(Arr1 , Arr2):\n",
    "    \n",
    "    new_Arr = []\n",
    "    f = 0\n",
    "    s = 0\n",
    "#     print(\"rangemin\")\n",
    "#     print(rangemin-1)\n",
    "    for i in range(len(Arr1) +len(Arr2)):\n",
    "#         print(f)\n",
    "#         print(s)\n",
    "#         print()\n",
    "#         if s > rangemin-1 or f > rangemin-1:\n",
    "#             if s > rangemin-1 and f > rangemin-1:\n",
    "#                 break\n",
    "#             if s > len(Arr2)-1:\n",
    "#                 new_Arr.append(Arr1[f])\n",
    "#                 f+=1\n",
    "#                 continue\n",
    "\n",
    "#             if f > len(Arr1)-1:\n",
    "#                 new_Arr.append(Arr2[s])\n",
    "#                 s+=1\n",
    "#                 continue\n",
    "#         else:        \n",
    "        if Arr1[f] < Arr2[s]:\n",
    "            new_Arr.append(Arr1[f])\n",
    "            f+=1\n",
    "            if f > len(Arr1)-1:\n",
    "                new_Arr += Arr2[s:]\n",
    "                break\n",
    "\n",
    "        else :\n",
    "            new_Arr.append(Arr2[s])\n",
    "            s+=1\n",
    "            if s > len(Arr2)-1:\n",
    "                new_Arr += Arr1[f:]\n",
    "                break\n",
    "             \n",
    "                 \n",
    "#     if s < f:\n",
    "#         new_Arr.append(Arr2[s])\n",
    "#     else:\n",
    "#         new_Arr.append(Arr1[f])    \n",
    "#     if len(Arr1) > len(Arr2):\n",
    "#         new_Arr += Arr1[len(Arr2):]\n",
    "        \n",
    "#     if len(Arr1) < len(Arr2):\n",
    "#         new_Arr += Arr2[len(Arr1):]\n",
    "#     print(new_Arr)\n",
    "    return new_Arr    \n",
    "        \n",
    "test_arr = [9 , 5, 2 ,1 ,4 , 7 , 8 , 0 ,6 , 11 , 13] \n",
    "print(\"Final Result\")\n",
    "print(Merge_sort(test_arr))"
   ]
  },
  {
   "cell_type": "markdown",
   "metadata": {},
   "source": [
    "# Kartsuba Algorithm"
   ]
  },
  {
   "cell_type": "code",
   "execution_count": null,
   "metadata": {},
   "outputs": [],
   "source": [
    "def kartsuba(Num1 , Num2):\n",
    "    if len(str(Num1)) == 1 or len(str(Num2)) == 1:\n",
    "        return Num1*Num2\n",
    "    \n",
    "    else:\n",
    "        \n",
    "        n = max(len(str(Num1)) , len(str(Num2)))\n",
    "        nd2 = n//2\n",
    "        a = Num1//10**(nd2)\n",
    "        b = Num1%10**(nd2)\n",
    "        \n",
    "        c = Num2//10**(nd2)\n",
    "        d = Num2%10**(nd2)\n",
    "        \n",
    "        \n",
    "        ai = kartsuba(a , c)\n",
    "        di = kartsuba(b , d)\n",
    "        ei = kartsuba(a+b , c+d)-ai-di\n",
    "        \n",
    "        k = ai * 10**(nd2 * 2)+ei * 10**(nd2) + di\n",
    "    return k    \n",
    "        \n",
    "\n",
    "print(kartsuba(20 , 40))"
   ]
  },
  {
   "cell_type": "markdown",
   "metadata": {},
   "source": [
    "# Quick Sort"
   ]
  },
  {
   "cell_type": "code",
   "execution_count": null,
   "metadata": {},
   "outputs": [],
   "source": [
    "def Quick_sort(Array , Left_pointer , Right_pointer):\n",
    "#     print(Array)\n",
    "    if Left_pointer < Right_pointer:\n",
    "        Pivot_index = Partioning(Array , Left_pointer , Right_pointer)\n",
    "#         print(Pivot_index)\n",
    "        Quick_sort(Array , Left_pointer , Pivot_index-1)\n",
    "        Quick_sort(Array , Pivot_index+1 , Right_pointer)\n",
    "def Swap(Array , index1 , index2):\n",
    "    Tmp = Array[index1]+Array[index2] \n",
    "    Array[index2] = Tmp-Array[index2]\n",
    "    Array[index1] = Tmp-Array[index2]\n",
    "\n",
    "def Partioning(Array , Left_pointer , Right_pointer): \n",
    "    Pivot = Array[Right_pointer]\n",
    "    First_pointer = Left_pointer\n",
    "    i = First_pointer\n",
    "    while Array[i] != Pivot:\n",
    "        if Array[i] < Pivot:\n",
    "            Swap(Array ,First_pointer , i )\n",
    "            First_pointer +=1\n",
    "        i+=1    \n",
    "    Swap(Array ,First_pointer , Right_pointer) \n",
    "    return First_pointer\n",
    "    \n",
    "data = [8, 7, 2, 1, 0, 9, 6]\n",
    "Quick_sort(data , 0 ,len(data)-1)\n",
    "print(data)"
   ]
  },
  {
   "cell_type": "code",
   "execution_count": null,
   "metadata": {},
   "outputs": [],
   "source": []
  }
 ],
 "metadata": {
  "kernelspec": {
   "display_name": "Python 3",
   "language": "python",
   "name": "python3"
  },
  "language_info": {
   "codemirror_mode": {
    "name": "ipython",
    "version": 3
   },
   "file_extension": ".py",
   "mimetype": "text/x-python",
   "name": "python",
   "nbconvert_exporter": "python",
   "pygments_lexer": "ipython3",
   "version": "3.8.5"
  }
 },
 "nbformat": 4,
 "nbformat_minor": 4
}
