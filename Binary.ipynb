{
 "cells": [
  {
   "cell_type": "code",
   "execution_count": null,
   "metadata": {},
   "outputs": [],
   "source": [
    "#Binary Search rec\n",
    "def Bin_ser_rec(Arr , element ,index):\n",
    "    if(len(Arr) == 0):\n",
    "        return \"Not Found\"\n",
    "    if (Arr[int(len(Arr)/2)] == element):\n",
    "        return index\n",
    "    if (Arr[int(len(Arr)/2)] < element):\n",
    "        New_Arr = Arr[int(len(Arr)/2)+1 : ]\n",
    "        index += (int(len(New_Arr)/2)+1)\n",
    "        return Bin_ser_rec(New_Arr , element ,index)\n",
    "    if (Arr[int(len(Arr)/2)] > element):\n",
    "        New_Arr = Arr[ :int(len(Arr)/2) ]\n",
    "        index -= (int(len(New_Arr)/2)+1)\n",
    "        return Bin_ser_rec(New_Arr , element ,index)\n",
    "\n",
    "\n",
    "\n",
    "print(Bin_ser_rec([1 , 2 , 3 ,4,5 ,6 , 8 , 10] , 0 , 4))"
   ]
  },
  {
   "cell_type": "code",
   "execution_count": null,
   "metadata": {},
   "outputs": [],
   "source": []
  }
 ],
 "metadata": {
  "kernelspec": {
   "display_name": "Python 3",
   "language": "python",
   "name": "python3"
  },
  "language_info": {
   "codemirror_mode": {
    "name": "ipython",
    "version": 3
   },
   "file_extension": ".py",
   "mimetype": "text/x-python",
   "name": "python",
   "nbconvert_exporter": "python",
   "pygments_lexer": "ipython3",
   "version": "3.8.5"
  }
 },
 "nbformat": 4,
 "nbformat_minor": 4
}
