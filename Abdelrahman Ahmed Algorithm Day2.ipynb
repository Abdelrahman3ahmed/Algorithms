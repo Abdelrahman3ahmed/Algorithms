{
 "cells": [
  {
   "cell_type": "markdown",
   "metadata": {},
   "source": [
    "Money change Gready O(N^2)"
   ]
  },
  {
   "cell_type": "code",
   "execution_count": 1,
   "metadata": {},
   "outputs": [
    {
     "name": "stdout",
     "output_type": "stream",
     "text": [
      "To chaneg 1000 you will take [200, 200, 200, 200, 200] and minimum number of coins is 5\n"
     ]
    }
   ],
   "source": [
    "#Money change Gready\n",
    "def Chanege_money(Currency , money):\n",
    "    List_of_money = []\n",
    "    for i in range(len(Currency)):\n",
    "        while (Currency[i] <= money):\n",
    "            List_of_money.append(Currency[i])\n",
    "            money -=Currency[i]\n",
    "    return List_of_money , len(List_of_money)\n",
    "    \n",
    "    \n",
    "Currencies = [200 , 100 ,50 , 20 , 10 , 5 , 1]\n",
    "Currencies.sort(reverse = True)\n",
    "floos = 1000\n",
    "Result = Chanege_money(Currencies , floos)\n",
    "print(\"To chaneg {} you will take {} and minimum number of coins is {}\"\n",
    "      .format(floos , Result[0] , Result[1]))    "
   ]
  },
  {
   "cell_type": "markdown",
   "metadata": {},
   "source": [
    " Money change Optimal   O(2^N)"
   ]
  },
  {
   "cell_type": "code",
   "execution_count": 2,
   "metadata": {},
   "outputs": [
    {
     "name": "stdout",
     "output_type": "stream",
     "text": [
      "3\n"
     ]
    }
   ],
   "source": [
    "#Money change Optimal\n",
    "from itertools import combinations as Com\n",
    "def Change_Money_Optimal(Currency , money):\n",
    "    min_count = float('inf')\n",
    "    for i in range(len(Currency)):\n",
    "        List_Curr = Com(Currency , i)\n",
    "        for j in List_Curr:\n",
    "            Curr_sum = sum(j)\n",
    "            count_Curr = len(j)\n",
    "            if (Curr_sum == money and count_Curr < min_count ):\n",
    "                min_count = count_Curr\n",
    "    \n",
    "    return count_Curr\n",
    "\n",
    "\n",
    "Curr_Arr = [20,8,4,1]\n",
    "print(Change_Money_Optimal(Curr_Arr , 24))"
   ]
  },
  {
   "cell_type": "markdown",
   "metadata": {},
   "source": [
    "Fractional Knapsack Gready and Optimal O(Nlog(N)"
   ]
  },
  {
   "cell_type": "code",
   "execution_count": 3,
   "metadata": {},
   "outputs": [
    {
     "name": "stdout",
     "output_type": "stream",
     "text": [
      "240\n"
     ]
    }
   ],
   "source": [
    "#Fractional Knapsack Gready and Optimal\n",
    "def Knapsack_frac(Item_Dictionary , weigth):\n",
    "    My_val = 0\n",
    "    for i,j in Item_Dictionary:\n",
    "        if( j <= weigth):\n",
    "            My_val+= i *j\n",
    "            weigth -= j\n",
    "        else:\n",
    "            My_val+= weigth*i\n",
    "            weigth = 0\n",
    "    return My_val\n",
    "    \n",
    "Item_Dictionary = {\n",
    "    6 : 10,\n",
    "    4 : 30,\n",
    "    5 :20\n",
    "    \n",
    "}\n",
    "Item_Dictionary = sorted(Item_Dictionary.items() , reverse=True )\n",
    "print(Knapsack_frac(Item_Dictionary , 50))"
   ]
  },
  {
   "cell_type": "markdown",
   "metadata": {},
   "source": [
    "Fractional Knapsack Gready another solution Dictionary should be sorted here O(N)"
   ]
  },
  {
   "cell_type": "code",
   "execution_count": 4,
   "metadata": {},
   "outputs": [
    {
     "name": "stdout",
     "output_type": "stream",
     "text": [
      "240\n"
     ]
    }
   ],
   "source": [
    "#Fractional Knapsack Gready another solution Dictionary should be sorted here\n",
    "def Knapsack_frac(Item_Dictionary , weigth):\n",
    "    My_val = 0\n",
    "    for i in Item_Dictionary:\n",
    "        if((Item_Dictionary[i])[0] <= weigth):\n",
    "            My_val+=(Item_Dictionary[i])[0]*(Item_Dictionary[i])[1]\n",
    "            weigth -= (Item_Dictionary[i])[0]\n",
    "        else:\n",
    "            My_val+= weigth*(Item_Dictionary[i])[1]\n",
    "            weigth = 0\n",
    "    return My_val\n",
    "    \n",
    "    \n",
    "Item_Dictionary = {\n",
    "    \"Item1\" : [10 , 6],\n",
    "    \"Item2\" : [20 , 5],\n",
    "    \"Item3\" : [30 , 4]\n",
    "    \n",
    "}    \n",
    "\n",
    "print(Knapsack_frac(Item_Dictionary , 50))"
   ]
  },
  {
   "cell_type": "markdown",
   "metadata": {},
   "source": [
    "0 1 knapsak Gready O(Nlog(N)"
   ]
  },
  {
   "cell_type": "code",
   "execution_count": 5,
   "metadata": {},
   "outputs": [
    {
     "name": "stdout",
     "output_type": "stream",
     "text": [
      "Solution Not Optimal  160\n"
     ]
    }
   ],
   "source": [
    "#0 1 knapsak Gready \n",
    "def Knapsack_frac(Item_Dictionary , weigth):\n",
    "    My_val = 0\n",
    "    for i,j in Item_Dictionary:\n",
    "        if(j <= weigth):\n",
    "            My_val+= i*j\n",
    "            weigth -= j\n",
    "        else:\n",
    "            return My_val\n",
    "    return My_val\n",
    "    \n",
    "Item_Dictionary = {\n",
    "    6 : 10,\n",
    "    4 : 30,\n",
    "    5 :20\n",
    "    \n",
    "}   \n",
    "\n",
    "Item_Dictionary = sorted(Item_Dictionary.items() , reverse = True)\n",
    "print(\"Solution Not Optimal  \"+str(Knapsack_frac(Item_Dictionary , 50)))"
   ]
  },
  {
   "cell_type": "markdown",
   "metadata": {},
   "source": [
    "0 1 Knapsack Brute combinations Optimal O(2^N)"
   ]
  },
  {
   "cell_type": "code",
   "execution_count": 6,
   "metadata": {},
   "outputs": [
    {
     "name": "stdout",
     "output_type": "stream",
     "text": [
      "220\n"
     ]
    }
   ],
   "source": [
    "#0 1 Knapsack Brute combinations Optimal\n",
    "from itertools import combinations as Com\n",
    "def Brute_Knap_sack(Item_Dictionary , weigth):\n",
    "    for k in range(len(Item_Dictionary)):\n",
    "        dictl = list(Com(Item_Dictionary, k))\n",
    "        maxv = 0\n",
    "        for i in dictl:\n",
    "            w = 0\n",
    "            v = 0\n",
    "            for j in i:\n",
    "                v += j*Item_Dictionary[j]\n",
    "                w += Item_Dictionary[j]\n",
    "            if(w <= weigth and v>maxv):\n",
    "                #print(v , w)\n",
    "                maxv = v\n",
    "    return maxv\n",
    "\n",
    "Item_Dictionary = {\n",
    "    6 : 10,\n",
    "    4 : 30,\n",
    "    5 :20\n",
    "    \n",
    "}\n",
    "\n",
    "print(Brute_Knap_sack(dict(sorted(Item_Dictionary.items() , reverse = True)),50))"
   ]
  },
  {
   "cell_type": "code",
   "execution_count": null,
   "metadata": {},
   "outputs": [],
   "source": []
  }
 ],
 "metadata": {
  "kernelspec": {
   "display_name": "Python 3",
   "language": "python",
   "name": "python3"
  },
  "language_info": {
   "codemirror_mode": {
    "name": "ipython",
    "version": 3
   },
   "file_extension": ".py",
   "mimetype": "text/x-python",
   "name": "python",
   "nbconvert_exporter": "python",
   "pygments_lexer": "ipython3",
   "version": "3.8.5"
  }
 },
 "nbformat": 4,
 "nbformat_minor": 4
}
