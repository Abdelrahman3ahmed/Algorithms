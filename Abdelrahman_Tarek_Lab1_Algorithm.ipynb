{
 "cells": [
  {
   "cell_type": "markdown",
   "metadata": {},
   "source": [
    "Factorial(iterative - Recursive)"
   ]
  },
  {
   "cell_type": "code",
   "execution_count": 1,
   "metadata": {},
   "outputs": [
    {
     "name": "stdout",
     "output_type": "stream",
     "text": [
      "120\n"
     ]
    }
   ],
   "source": [
    "def iterFact(x):\n",
    "    fact = 1\n",
    "    for i in range(1,x+1):\n",
    "        fact*=i\n",
    "    return fact\n",
    "print(iterFact(5))       #time complexity is O(n)"
   ]
  },
  {
   "cell_type": "code",
   "execution_count": 2,
   "metadata": {},
   "outputs": [
    {
     "name": "stdout",
     "output_type": "stream",
     "text": [
      "120\n"
     ]
    }
   ],
   "source": [
    "def recFact(x):\n",
    "    if x == 1:\n",
    "        return 1\n",
    "    else:\n",
    "        return x * recFact(x-1)\n",
    "print(recFact(5))      #time complexity is O(n)"
   ]
  },
  {
   "cell_type": "markdown",
   "metadata": {},
   "source": [
    "Fibonacci(iterative - Recursive)"
   ]
  },
  {
   "cell_type": "markdown",
   "metadata": {},
   "source": [
    "O(n)"
   ]
  },
  {
   "cell_type": "code",
   "execution_count": 3,
   "metadata": {},
   "outputs": [
    {
     "name": "stdout",
     "output_type": "stream",
     "text": [
      "0\n",
      "1\n",
      "1\n",
      "2\n",
      "3\n",
      "5\n"
     ]
    }
   ],
   "source": [
    "def iterFib(x):\n",
    "    n1 = 0\n",
    "    n2 = 1\n",
    "    count = 0\n",
    "    if x == 1:\n",
    "        print(n1)\n",
    "    else:\n",
    "        while count < x:\n",
    "            print(n1)\n",
    "            temp = n1 + n2\n",
    "            n1 = n2\n",
    "            n2 = temp\n",
    "            count +=1\n",
    "iterFib(6)\n",
    "        "
   ]
  },
  {
   "cell_type": "markdown",
   "metadata": {},
   "source": [
    "O(n)"
   ]
  },
  {
   "cell_type": "code",
   "execution_count": 4,
   "metadata": {},
   "outputs": [
    {
     "name": "stdout",
     "output_type": "stream",
     "text": [
      "0\n",
      "1\n",
      "1\n",
      "2\n",
      "3\n",
      "5\n"
     ]
    }
   ],
   "source": [
    "def recFib(x):\n",
    "    if x <= 1 :\n",
    "        return x\n",
    "    else:\n",
    "        return recFib(x-1) + recFib(x-2)\n",
    "for i in range(6):            \n",
    "    print(recFib(i))"
   ]
  },
  {
   "cell_type": "markdown",
   "metadata": {},
   "source": [
    "Linear Search (iterative - Recursive)"
   ]
  },
  {
   "cell_type": "markdown",
   "metadata": {},
   "source": [
    "O(n)"
   ]
  },
  {
   "cell_type": "code",
   "execution_count": 5,
   "metadata": {},
   "outputs": [
    {
     "data": {
      "text/plain": [
       "4"
      ]
     },
     "execution_count": 5,
     "metadata": {},
     "output_type": "execute_result"
    }
   ],
   "source": [
    "Arr = [1,2,3,4,5,6,7,8]\n",
    "def iterLinear(Arr, x):\n",
    "    for i in range(len(Arr)):\n",
    "        if Arr[i] == x:\n",
    "            return i \n",
    "    return -1\n",
    "iterLinear(Arr, 5)"
   ]
  },
  {
   "cell_type": "markdown",
   "metadata": {},
   "source": [
    "O(n)"
   ]
  },
  {
   "cell_type": "code",
   "execution_count": 6,
   "metadata": {},
   "outputs": [
    {
     "data": {
      "text/plain": [
       "4"
      ]
     },
     "execution_count": 6,
     "metadata": {},
     "output_type": "execute_result"
    }
   ],
   "source": [
    "def recLinear(Arr, l ,r ,x ):\n",
    "    if r < l:\n",
    "        return -1\n",
    "    if Arr[l] == x:\n",
    "        return l\n",
    "    if Arr[r] == x:\n",
    "        return r\n",
    "    return recLinear(Arr,l+1,r-1,x)\n",
    "recLinear(Arr, 0, len(Arr)-1, 5)"
   ]
  },
  {
   "cell_type": "markdown",
   "metadata": {},
   "source": [
    "Binary Search (iterative - Recursive)"
   ]
  },
  {
   "cell_type": "markdown",
   "metadata": {},
   "source": [
    "O(log(n))"
   ]
  },
  {
   "cell_type": "code",
   "execution_count": 7,
   "metadata": {},
   "outputs": [
    {
     "data": {
      "text/plain": [
       "4"
      ]
     },
     "execution_count": 7,
     "metadata": {},
     "output_type": "execute_result"
    }
   ],
   "source": [
    "def iterBinary(Arr, x):\n",
    "    l = 0\n",
    "    h = len(Arr) - 1\n",
    "    m = 0\n",
    "    while l <= h:\n",
    "        m = (h + l)// 2\n",
    "        if Arr[m] < x:\n",
    "            l = m +1\n",
    "        elif Arr[m] > x:\n",
    "            h = m - 1\n",
    "        else:\n",
    "            return m\n",
    "    return -1\n",
    "iterBinary(Arr,5)"
   ]
  },
  {
   "cell_type": "markdown",
   "metadata": {},
   "source": [
    "O(n)"
   ]
  },
  {
   "cell_type": "code",
   "execution_count": 8,
   "metadata": {},
   "outputs": [
    {
     "data": {
      "text/plain": [
       "4"
      ]
     },
     "execution_count": 8,
     "metadata": {},
     "output_type": "execute_result"
    }
   ],
   "source": [
    "def recBinary(Arr, l, h, x):\n",
    "    if h >= l:\n",
    "        m = (h + l) //2\n",
    "        if Arr[m] == x:\n",
    "            return m\n",
    "        elif Arr[m] > x:\n",
    "            return recBinary(Arr, l, m - 1, x)\n",
    "        else:\n",
    "            return recBinary(Arr, m + 1, h, x)\n",
    "    else:\n",
    "        return -1\n",
    "recBinary(Arr, 0, len(Arr) - 1, 5)"
   ]
  },
  {
   "cell_type": "markdown",
   "metadata": {},
   "source": [
    "Bubble sort with swap = O(log(n))"
   ]
  },
  {
   "cell_type": "code",
   "execution_count": 9,
   "metadata": {},
   "outputs": [
    {
     "data": {
      "text/plain": [
       "[2, 3, 5, 7, 8]"
      ]
     },
     "execution_count": 9,
     "metadata": {},
     "output_type": "execute_result"
    }
   ],
   "source": [
    "arr = [8,5,7,3,2]\n",
    "def bubbleSwap(arr):\n",
    "    for i in range(len(arr)-1):\n",
    "        for j in range(len(arr)-1-i):\n",
    "            if arr[j] > arr[j+1]:\n",
    "                arr[j],arr[j+1] = arr[j+1],arr[j]\n",
    "    return arr\n",
    "bubbleSwap(arr)"
   ]
  },
  {
   "cell_type": "markdown",
   "metadata": {},
   "source": [
    "Insertion Sort  = O(n^2)"
   ]
  },
  {
   "cell_type": "code",
   "execution_count": 10,
   "metadata": {},
   "outputs": [
    {
     "data": {
      "text/plain": [
       "[2, 3, 5, 7, 8]"
      ]
     },
     "execution_count": 10,
     "metadata": {},
     "output_type": "execute_result"
    }
   ],
   "source": [
    "def insertion_sort(arr):\n",
    "    for i in range(len(arr)):\n",
    "        j = i - 1\n",
    "        x = arr[i]\n",
    "        while(j > -1 & arr[i] > x):\n",
    "            arr[j+1] = arr[j]\n",
    "            j -= 1\n",
    "        arr[j+1] = x\n",
    "    return arr\n",
    "insertion_sort(arr)"
   ]
  },
  {
   "cell_type": "markdown",
   "metadata": {},
   "source": [
    "Selection Sort  = O(n^2)"
   ]
  },
  {
   "cell_type": "code",
   "execution_count": 11,
   "metadata": {},
   "outputs": [
    {
     "data": {
      "text/plain": [
       "[2, 3, 5, 7, 8]"
      ]
     },
     "execution_count": 11,
     "metadata": {},
     "output_type": "execute_result"
    }
   ],
   "source": [
    "def selection_Sort(arr):\n",
    "    for i in range(len(arr)):\n",
    "        min_idx = i\n",
    "        for j in range(i+1, len(arr)):\n",
    "            if arr[min_idx] > arr[j]:\n",
    "                min_idx = j\n",
    "                arr[i], arr[min_idx] = arr[min_idx], arr[i]\n",
    "    return arr\n",
    "selection_Sort(arr)"
   ]
  },
  {
   "cell_type": "markdown",
   "metadata": {},
   "source": [
    "GDC (GDC with Euclidian) = O(n^2)"
   ]
  },
  {
   "cell_type": "code",
   "execution_count": 12,
   "metadata": {},
   "outputs": [
    {
     "data": {
      "text/plain": [
       "3"
      ]
     },
     "execution_count": 12,
     "metadata": {},
     "output_type": "execute_result"
    }
   ],
   "source": [
    "def gcd(a,b):\n",
    "    A = max(a,b)\n",
    "    B = min(a,b)\n",
    "    while(B != 0):\n",
    "        q = A//B\n",
    "        r = A - (B*q)\n",
    "        A = B\n",
    "        B = r\n",
    "    return A\n",
    "gcd(12,33)"
   ]
  },
  {
   "cell_type": "markdown",
   "metadata": {},
   "source": [
    "Normal GCD"
   ]
  },
  {
   "cell_type": "code",
   "execution_count": 13,
   "metadata": {},
   "outputs": [
    {
     "data": {
      "text/plain": [
       "3"
      ]
     },
     "execution_count": 13,
     "metadata": {},
     "output_type": "execute_result"
    }
   ],
   "source": [
    "def normal_gdc(x,y):\n",
    "    x_Divisors=[]\n",
    "    y_Divisors=[]\n",
    "    for num in reversed(range(x+1)):\n",
    "        if num == 0:\n",
    "            pass\n",
    "        elif x%num == 0:\n",
    "            x_Divisors.append(num)\n",
    "    for num in reversed(range(y+1)):\n",
    "        if num == 0:\n",
    "            pass\n",
    "        elif y%num == 0:\n",
    "            y_Divisors.append(num)\n",
    "    common_Divisors = set.intersection(set(x_Divisors),set(y_Divisors))\n",
    "    gdc_ = max(common_Divisors)\n",
    "    return gdc_\n",
    "normal_gdc(12, 33)\n"
   ]
  },
  {
   "cell_type": "code",
   "execution_count": null,
   "metadata": {},
   "outputs": [],
   "source": []
  }
 ],
 "metadata": {
  "kernelspec": {
   "display_name": "Python 3",
   "language": "python",
   "name": "python3"
  },
  "language_info": {
   "codemirror_mode": {
    "name": "ipython",
    "version": 3
   },
   "file_extension": ".py",
   "mimetype": "text/x-python",
   "name": "python",
   "nbconvert_exporter": "python",
   "pygments_lexer": "ipython3",
   "version": "3.8.5"
  }
 },
 "nbformat": 4,
 "nbformat_minor": 5
}
