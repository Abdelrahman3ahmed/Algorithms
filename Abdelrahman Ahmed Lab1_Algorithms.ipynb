{
 "cells": [
  {
   "cell_type": "code",
   "execution_count": 1,
   "metadata": {},
   "outputs": [],
   "source": [
    "#Abdelrahman Ahmed Ragab "
   ]
  },
  {
   "cell_type": "code",
   "execution_count": 2,
   "metadata": {},
   "outputs": [
    {
     "name": "stdout",
     "output_type": "stream",
     "text": [
      "120\n"
     ]
    }
   ],
   "source": [
    "#Factorial With recrsion\n",
    "def Fact_with_rec(n):\n",
    "    if(n == 0):\n",
    "        return 1\n",
    "    return n*Fact_with_rec(n-1)\n",
    "\n",
    "\n",
    "print(Fact_with_rec(5))"
   ]
  },
  {
   "cell_type": "markdown",
   "metadata": {},
   "source": [
    "O(N)"
   ]
  },
  {
   "cell_type": "code",
   "execution_count": 3,
   "metadata": {},
   "outputs": [
    {
     "name": "stdout",
     "output_type": "stream",
     "text": [
      "120\n"
     ]
    }
   ],
   "source": [
    "#Factorial Without recrsion\n",
    "def Fact_without_rec(n):\n",
    "    tmp = 1\n",
    "    for i in range(n):\n",
    "        tmp*=i+1\n",
    "    return tmp\n",
    "\n",
    "print(Fact_without_rec(5))"
   ]
  },
  {
   "cell_type": "markdown",
   "metadata": {},
   "source": [
    "O(N)"
   ]
  },
  {
   "cell_type": "code",
   "execution_count": 4,
   "metadata": {},
   "outputs": [
    {
     "name": "stdout",
     "output_type": "stream",
     "text": [
      "8\n"
     ]
    }
   ],
   "source": [
    "#Fibonatchi with rec\n",
    "def fib_rec(n):\n",
    "    if(n <= 1):\n",
    "        return n\n",
    "    return fib_rec(n-1)+fib_rec(n-2)\n",
    "    \n",
    "print(fib_rec(6))    "
   ]
  },
  {
   "cell_type": "markdown",
   "metadata": {},
   "source": [
    "O(N)"
   ]
  },
  {
   "cell_type": "code",
   "execution_count": 5,
   "metadata": {},
   "outputs": [
    {
     "name": "stdout",
     "output_type": "stream",
     "text": [
      "8\n"
     ]
    }
   ],
   "source": [
    "#Fibonatchi iterative\n",
    "def fib_iter(n):\n",
    "    c = 1\n",
    "    p=0\n",
    "    pp = 0\n",
    "    for i in range(n-1):\n",
    "        pp = p\n",
    "        p = c\n",
    "        c = p+pp\n",
    "    return c\n",
    "\n",
    "\n",
    "print(fib_iter(6))\n",
    "        "
   ]
  },
  {
   "cell_type": "markdown",
   "metadata": {},
   "source": [
    "O(N)"
   ]
  },
  {
   "cell_type": "code",
   "execution_count": 6,
   "metadata": {},
   "outputs": [
    {
     "name": "stdout",
     "output_type": "stream",
     "text": [
      "3\n"
     ]
    }
   ],
   "source": [
    "#Linear search rec\n",
    "def Lin_S_rec(Arr , element ,index):\n",
    "    if(index > len(Arr)):\n",
    "        return \"not found\"\n",
    "    if(Arr[0] == element):\n",
    "        return index\n",
    "    index +=1\n",
    "    return Lin_S_rec(Arr[1:] , element,index)\n",
    "\n",
    "\n",
    "print(Lin_S_rec([5, 10 , 6 , 7 ,8 , 4] , 7 , 0))"
   ]
  },
  {
   "cell_type": "markdown",
   "metadata": {},
   "source": [
    "O(N)"
   ]
  },
  {
   "cell_type": "code",
   "execution_count": 7,
   "metadata": {},
   "outputs": [
    {
     "name": "stdout",
     "output_type": "stream",
     "text": [
      "3\n"
     ]
    }
   ],
   "source": [
    "#Linear search iter\n",
    "def Lin_S_iter(Arr , element):\n",
    "    for i in range(len(Arr)):\n",
    "        if (Arr[i] == element):\n",
    "            return i\n",
    "        \n",
    "res = Lin_S_iter([5, 10 , 6 , 7 ,8 , 4] , 7 )  \n",
    "if(res == None):\n",
    "    print(\"Not found\")\n",
    "    \n",
    "else:\n",
    "    print(res)"
   ]
  },
  {
   "cell_type": "markdown",
   "metadata": {},
   "source": [
    "O(N)"
   ]
  },
  {
   "cell_type": "code",
   "execution_count": 8,
   "metadata": {},
   "outputs": [
    {
     "name": "stdout",
     "output_type": "stream",
     "text": [
      "6\n"
     ]
    }
   ],
   "source": [
    "#Binary Search rec\n",
    "def Bin_ser_rec(Arr ,l ,r, element ):\n",
    "    if r >= l:\n",
    "        m = l + int((r - l)/ 2)\n",
    "        \n",
    "        if Arr[m] == element:\n",
    "            return m\n",
    "        elif Arr[m] > element:\n",
    "            return Bin_ser_rec(Arr, l, m-1, element)\n",
    "  \n",
    "        else:\n",
    "            return Bin_ser_rec(Arr, m+1, r, element)\n",
    "    else:\n",
    "        return \"Not Found\"\n",
    "    \n",
    "Test_arr = [1 , 2 , 3 ,4 ,6 , 8 , 10]\n",
    "print(Bin_ser_rec(Test_arr, 0 ,int(len(Test_arr))-1 , 10))    "
   ]
  },
  {
   "cell_type": "markdown",
   "metadata": {},
   "source": [
    "O(log(N))"
   ]
  },
  {
   "cell_type": "code",
   "execution_count": 9,
   "metadata": {},
   "outputs": [
    {
     "name": "stdout",
     "output_type": "stream",
     "text": [
      "6\n"
     ]
    }
   ],
   "source": [
    "#Binary Search iter\n",
    "def Bin_ser_rec(Arr ,l ,r, element ):\n",
    "    while(l<=r):\n",
    "        m = l + int((r-l)/2)\n",
    "        if(Arr[m] == element):\n",
    "            return m\n",
    "        if(Arr[m] < element):\n",
    "            l = m+1\n",
    "        if(Arr[m] > element):\n",
    "                r=m-1\n",
    "    return \"Not Found\"\n",
    "    \n",
    "Test_arr = [1 , 2 , 3 ,4 ,6 , 8 , 10]\n",
    "print(Bin_ser_rec(Test_arr, 0 ,int(len(Test_arr))-1 , 10)) \n"
   ]
  },
  {
   "cell_type": "markdown",
   "metadata": {},
   "source": [
    "O(log(N))"
   ]
  },
  {
   "cell_type": "code",
   "execution_count": 10,
   "metadata": {},
   "outputs": [
    {
     "name": "stdout",
     "output_type": "stream",
     "text": [
      "[0, 2, 3, 5, 5, 6, 7, 7, 9, 50, 55]\n"
     ]
    }
   ],
   "source": [
    "#Bubble Sort\n",
    "def bubble_sort(Arr):\n",
    "    length = len(Arr)\n",
    "    for i in range(length):\n",
    "        for j in range(0 , length-i-1):\n",
    "            if(Arr[j]> Arr[j+1]):\n",
    "                tmp = Arr[j]\n",
    "                Arr[j]=Arr[j+1]\n",
    "                Arr[j+1]=tmp\n",
    "    return Arr\n",
    "    \n",
    "    \n",
    "Test_arr = [50 , 5,7,7,9,2,0,5,6,3,55]\n",
    "print(bubble_sort(Test_arr)) "
   ]
  },
  {
   "cell_type": "markdown",
   "metadata": {},
   "source": [
    "O(N^2)"
   ]
  },
  {
   "cell_type": "code",
   "execution_count": 11,
   "metadata": {},
   "outputs": [
    {
     "name": "stdout",
     "output_type": "stream",
     "text": [
      "[0, 2, 3, 5, 5, 6, 7, 7, 9, 50, 55]\n"
     ]
    }
   ],
   "source": [
    "#Insertion Sort\n",
    "def Ins_sor(Arr):\n",
    "    for i in range(1 , len(Arr)):\n",
    "        unsorted_ele = Arr[i]\n",
    "        j = i-1\n",
    "        while(unsorted_ele < Arr[j] and j>=0):\n",
    "            Arr[j+1] = Arr[j]\n",
    "            j-=1\n",
    "        Arr[j+1] = unsorted_ele\n",
    "    return Arr\n",
    "    \n",
    "Test_arr = [50 , 5,7,7,9,2,0,5,6,3,55]\n",
    "print(Ins_sor(Test_arr))         "
   ]
  },
  {
   "cell_type": "markdown",
   "metadata": {},
   "source": [
    "O(N^2)"
   ]
  },
  {
   "cell_type": "code",
   "execution_count": 12,
   "metadata": {},
   "outputs": [
    {
     "name": "stdout",
     "output_type": "stream",
     "text": [
      "[0, 2, 3, 5, 5, 6, 7, 7, 9, 50, 55]\n"
     ]
    }
   ],
   "source": [
    "#Selection Sort\n",
    "def Select_Sort(Arr):\n",
    "    for i in range(len(Arr)):\n",
    "        min = i\n",
    "        for j in range(i+1 , len(Arr)):\n",
    "            if(Arr[j] < Arr[min]):\n",
    "                min = j\n",
    "        \n",
    "        tmp = Arr[i]\n",
    "        Arr[i] = Arr[min]\n",
    "        Arr[min] = tmp\n",
    "    return Arr\n",
    "    \n",
    "Test_arr = [50 , 5,7,7,9,2,0,5,6,3,55]\n",
    "print(Select_Sort(Test_arr))            "
   ]
  },
  {
   "cell_type": "markdown",
   "metadata": {},
   "source": [
    "O(N^2)"
   ]
  },
  {
   "cell_type": "code",
   "execution_count": 2,
   "metadata": {},
   "outputs": [
    {
     "name": "stdout",
     "output_type": "stream",
     "text": [
      "3\n"
     ]
    }
   ],
   "source": [
    "#GCD with Ecliden \n",
    "def GCD(Num1 , Num2):\n",
    "    if(Num1 > Num2):\n",
    "        divsion = Num1\n",
    "    else:\n",
    "        divsion = Num2\n",
    "        \n",
    "    divisor = Num1+Num2-divsion    \n",
    "#     divsion = max(Num1 , Num2)\n",
    "#     divisor = min(Num1 , Num2)\n",
    "    reminder = divsion%divisor\n",
    "    \n",
    "    while(reminder !=0):\n",
    "        divsion = divisor\n",
    "        divisor = reminder\n",
    "        reminder = divsion%divisor\n",
    "    \n",
    "    return divisor\n",
    "        \n",
    "print(GCD(12,33))      "
   ]
  },
  {
   "cell_type": "markdown",
   "metadata": {},
   "source": [
    "O(Log(min(Num1 , Num2)))"
   ]
  },
  {
   "cell_type": "code",
   "execution_count": null,
   "metadata": {},
   "outputs": [],
   "source": []
  }
 ],
 "metadata": {
  "kernelspec": {
   "display_name": "Python 3",
   "language": "python",
   "name": "python3"
  },
  "language_info": {
   "codemirror_mode": {
    "name": "ipython",
    "version": 3
   },
   "file_extension": ".py",
   "mimetype": "text/x-python",
   "name": "python",
   "nbconvert_exporter": "python",
   "pygments_lexer": "ipython3",
   "version": "3.8.5"
  }
 },
 "nbformat": 4,
 "nbformat_minor": 4
}
